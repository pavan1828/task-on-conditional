{
 "cells": [
  {
   "cell_type": "markdown",
   "id": "06dea0bc",
   "metadata": {},
   "source": [
    "1. Write a Python program that asks the user for their age and prints \"You are an adult\" if the age is 18 or older, otherwise prints \"You are a minor'.\n"
   ]
  },
  {
   "cell_type": "code",
   "execution_count": 2,
   "id": "e766eea5",
   "metadata": {},
   "outputs": [
    {
     "name": "stdout",
     "output_type": "stream",
     "text": [
      "enter a age:6\n",
      "You are a minor\n"
     ]
    }
   ],
   "source": [
    "# input from user\n",
    "age=int(input('enter a age:'))\n",
    "if age >=18: # this condition check  age great then 18\n",
    "    print('You are an adult')\n",
    "else:\n",
    "    print('You are a minor')"
   ]
  },
  {
   "cell_type": "markdown",
   "id": "abf23200",
   "metadata": {},
   "source": [
    "2.Write a program that takes a numerical grade (out of 100) as input and prints the corresponding letter grade according to the following scale:<br>\n",
    " 90-100: A<br>\n",
    " 80-89: B<br>\n",
    " 70-79: C<br>\n",
    " 60-69: D<br>\n",
    " Below 60: F\n"
   ]
  },
  {
   "cell_type": "code",
   "execution_count": 6,
   "id": "82fb8463",
   "metadata": {},
   "outputs": [
    {
     "name": "stdout",
     "output_type": "stream",
     "text": [
      "enter your marks:60\n",
      "Grade D\n"
     ]
    }
   ],
   "source": [
    "# input from user\n",
    "marks=float(input('enter your marks:'))\n",
    "if marks in range(0,101):\n",
    "    if marks in range(90,100):\n",
    "        print(\"Grade A \") \n",
    "    elif marks in range(80,89):\n",
    "        print('Grade B')\n",
    "    elif marks in range(70,79):\n",
    "        print('Grade C')\n",
    "    elif marks in range(60,69):\n",
    "        print('Grade D')\n",
    "    elif marks<=60: # check the fail person below \n",
    "        print('Fail')\n",
    "else:\n",
    "    print('please enter invalid input')"
   ]
  },
  {
   "cell_type": "markdown",
   "id": "0c5588b4",
   "metadata": {},
   "source": [
    "3.Write a program that calculates the Body Mass Index (BMI) of a person. The user should input their weight in kilograms and height in meters. The program should then print whether the person is underweight, normal weight, overweight, or obese\n"
   ]
  },
  {
   "cell_type": "code",
   "execution_count": 11,
   "id": "0983c2a0",
   "metadata": {},
   "outputs": [
    {
     "name": "stdout",
     "output_type": "stream",
     "text": [
      "enter weight:60\n",
      "enter height:4.8\n",
      "The Weight, Height, and bmi of  body  60.0,4.8, are 2.604166666666667\n",
      "obese\n"
     ]
    }
   ],
   "source": [
    "weight=float(input('enter weight:'))\n",
    "height=float(input('enter height:'))\n",
    "bmi=weight/(height**2)\n",
    "print(f'The Weight, Height, and bmi of  body  {weight},{height}, are {bmi}')\n",
    "if weight<=20.5:\n",
    "    print('under weight')\n",
    "elif 20.5 <= bmi < 40.9:\n",
    "    print('normal weight')\n",
    "elif 50<= bmi < 70.5:\n",
    "    print('over weight')\n",
    "else:\n",
    "    print('obese')"
   ]
  },
  {
   "cell_type": "markdown",
   "id": "f6f99d4c",
   "metadata": {},
   "source": [
    "4.Write a program that asks the user for three numbers and prints the maximum of the three.\n"
   ]
  },
  {
   "cell_type": "code",
   "execution_count": 1,
   "id": "556662b4",
   "metadata": {},
   "outputs": [
    {
     "name": "stdout",
     "output_type": "stream",
     "text": [
      "Enter Value of a:2\n",
      "Enter Value of b:6\n",
      "Enter Value of c:7\n",
      "Big(2,6,7)=7\n",
      "Program execution Completed\n"
     ]
    }
   ],
   "source": [
    "a=int(input(\"Enter Value of a:\"))\n",
    "b=int(input(\"Enter Value of b:\"))\n",
    "c=int(input(\"Enter Value of c:\"))\n",
    "# Code a bigger\n",
    "if (a>=b) and (a>c):\n",
    "    print(\"Big({},{},{})={}\".format(a,b,c,a))\n",
    "# Code b bigger\n",
    "if(b>a) and (b>=c):\n",
    "    print(\"Big({},{},{})={}\".format(a,b,c,b))\n",
    "# Code c bigger\n",
    "if(c>b) and (c>=a):\n",
    "    print(\"Big({},{},{})={}\".format(a,b,c,c))\n",
    "# Code a,b  and c equal\n",
    "if(a==b) and (b==c) and (c==a):\n",
    "    print(\"All Values are Equal\")\n",
    "print(\"Program execution Completed\")\n",
    "    \n"
   ]
  },
  {
   "cell_type": "markdown",
   "id": "72d21575",
   "metadata": {},
   "source": [
    "5.Write a program that asks the user for a temperature (in Celsius) and prints \"It's freezing\" if the temperature is below 0, \"It's cool\" if it's between 0 and 10, \"It's warm\" if it's between 10 and 20, and \"It's hot\" if it's above 20\n"
   ]
  },
  {
   "cell_type": "code",
   "execution_count": 17,
   "id": "deb7e8b7",
   "metadata": {},
   "outputs": [
    {
     "name": "stdout",
     "output_type": "stream",
     "text": [
      "enter Temperature in celsius:55\n",
      "it's hot\n"
     ]
    }
   ],
   "source": [
    "#input temperature for dynamically\n",
    "temp=float(input('enter Temperature in celsius:'))\n",
    "if temp<=0:  #check below  temp\n",
    "    print(\"it's freezing\")\n",
    "elif temp in range(0,10):\n",
    "    print(\"it's cool\" )\n",
    "elif temp in range(10,20):\n",
    "    print(\"it's warm\")\n",
    "elif temp >20: #check the temp greater than 20\n",
    "    print(\"it's hot\")"
   ]
  },
  {
   "cell_type": "markdown",
   "id": "72beb70f",
   "metadata": {},
   "source": [
    "5.Write a program that asks the user for a number (1-7) and prints the corresponding day of the week.\n"
   ]
  },
  {
   "cell_type": "code",
   "execution_count": 22,
   "id": "3cd489d9",
   "metadata": {},
   "outputs": [
    {
     "name": "stdout",
     "output_type": "stream",
     "text": [
      "enter a number in blw (1-7): 5\n",
      "thursday\n"
     ]
    }
   ],
   "source": [
    "#input\n",
    "day=int(input('enter a number in blw (1-7): '))\n",
    "if day in range(1,7):\n",
    "    if day ==1:\n",
    "        print('sunday')\n",
    "    elif day==2:\n",
    "        print('monday')\n",
    "    elif day==3:\n",
    "        print('tuesday')\n",
    "    elif day==4:\n",
    "        print('wensday')\n",
    "    elif day==5:\n",
    "        print(\"thursday\")\n",
    "    elif day==6:\n",
    "        print('friday')\n",
    "    elif  day==7:\n",
    "        print('saturday')\n",
    "        \n",
    "else:\n",
    "    print('enter valid number')\n",
    "        "
   ]
  },
  {
   "cell_type": "markdown",
   "id": "4adf4b7a",
   "metadata": {},
   "source": [
    "6.Write a program that asks the user for a number and prints \"In range\" if the number is between 10 and 20 (inclusive), and \"Out of range\" otherwise.\n"
   ]
  },
  {
   "cell_type": "code",
   "execution_count": 26,
   "id": "f8e24200",
   "metadata": {},
   "outputs": [
    {
     "name": "stdout",
     "output_type": "stream",
     "text": [
      "enter a number:10\n",
      "In range\n"
     ]
    }
   ],
   "source": [
    "num=int(input('enter a number:'))\n",
    "if num in range(10,21): # check weather num in range(10,20) inclusive\n",
    "    print('In range')\n",
    "else:\n",
    "    print(\"out of range\")"
   ]
  },
  {
   "cell_type": "markdown",
   "id": "5e9a10bb",
   "metadata": {},
   "source": [
    "7.Write a program that asks the user for an integer and prints whether it's even or odd.\n",
    "\n"
   ]
  },
  {
   "cell_type": "code",
   "execution_count": 28,
   "id": "ab14b041",
   "metadata": {},
   "outputs": [
    {
     "name": "stdout",
     "output_type": "stream",
     "text": [
      "Enter a integer number:5\n",
      "it is odd number\n"
     ]
    }
   ],
   "source": [
    "n=int(input(\"Enter a integer number:\"))\n",
    "if n%2==0:# check the divisible by2\n",
    "    print(\"It is even number\")\n",
    "else:\n",
    "    print(\"it is odd number\")"
   ]
  },
  {
   "cell_type": "markdown",
   "id": "7c79b3b7",
   "metadata": {},
   "source": [
    "9. Write a Python program to add 'ing' at the end of a given string (string length should be equal to or more than 3). If the given string already ends with 'ing' then add 'ly' instead.If the string length of the given string is less than 3, leave it unchanged\n"
   ]
  },
  {
   "cell_type": "code",
   "execution_count": 33,
   "id": "d03d89f9",
   "metadata": {},
   "outputs": [
    {
     "name": "stdout",
     "output_type": "stream",
     "text": [
      "enter a  word:end\n",
      "ending\n"
     ]
    }
   ],
   "source": [
    "str=input('enter a  word:')\n",
    "if len(str)==2: # check the len of string is 2\n",
    "    print(\"str\")\n",
    "elif str.endswith('ing'): # str endwith ing\n",
    "    print((str).replace('ing','ly')) # and replace the ing --ly\n",
    "else:\n",
    "    print((str)+('ing'))"
   ]
  },
  {
   "cell_type": "code",
   "execution_count": 34,
   "id": "7029d343",
   "metadata": {},
   "outputs": [
    {
     "name": "stdout",
     "output_type": "stream",
     "text": [
      "enter a  word:ending\n",
      "endly\n"
     ]
    }
   ],
   "source": [
    "str=input('enter a  word:')\n",
    "if len(str)==2:\n",
    "    print(\"str\")\n",
    "elif str.endswith('ing'):\n",
    "    print((str).replace('ing','ly'))\n",
    "else:\n",
    "    print((str)+('ing'))"
   ]
  },
  {
   "cell_type": "markdown",
   "id": "79cb8885",
   "metadata": {},
   "source": [
    "10.Create rock-paper-scissors by using the if condition.\n"
   ]
  },
  {
   "cell_type": "code",
   "execution_count": 4,
   "id": "c12f50df",
   "metadata": {},
   "outputs": [
    {
     "name": "stdout",
     "output_type": "stream",
     "text": [
      "player - I:p\n",
      "a win\n"
     ]
    }
   ],
   "source": [
    "import random #module\n",
    "b=list('rps')\n",
    "random.shuffle(b)\n",
    "b=b[0]\n",
    "a=input('player - I:').lower()\n",
    "if(a=='p' and b=='r') or (a=='s' and b=='p') or (a=='r' and b=='s'):\n",
    "    print('a win')\n",
    "elif a==b:\n",
    "    print('tie')\n",
    "else:\n",
    "    print('b')"
   ]
  },
  {
   "cell_type": "markdown",
   "id": "b3178d88",
   "metadata": {},
   "source": [
    "11.Create a dynamic calculator which asks for numbers and operator and return the answers,\n",
    "    Example<br>\n",
    "    Input: Type first number: 10\",<br>\n",
    "    Type any of this (+, -, *, /, %, **): ,*<br>\n",
    "    Assignment-2 ,<br>\n",
    "    Type second number: 19,<br>\n",
    "    Output:Answer is 190\n"
   ]
  },
  {
   "cell_type": "code",
   "execution_count": 8,
   "id": "8763f8dc",
   "metadata": {},
   "outputs": [
    {
     "name": "stdout",
     "output_type": "stream",
     "text": [
      "enter first number: 0\n",
      "enter second number: 6\n",
      "enter any of this (+, -, *, /, %, **): /\n",
      "0.0\n"
     ]
    }
   ],
   "source": [
    "# Input the value from keyborad\n",
    "a = float(input(\"enter first number: \"))\n",
    "b = float(input(\"enter second number: \"))\n",
    "cal = input(\"enter any of this (+, -, *, /, %, **): \")\n",
    "\n",
    "# Perform the calculation\n",
    "if cal == '+':\n",
    "    print(a+b)\n",
    "elif cal == '-':\n",
    "    print(a-b)\n",
    "elif cal == '*':\n",
    "    print(a*b)\n",
    "elif cal == \"/\":\n",
    "    print(a / b)\n",
    "elif cal == \"%\":\n",
    "    print(a % b)\n",
    "elif cal == \"**\":\n",
    "    print(a**b)\n"
   ]
  },
  {
   "cell_type": "code",
   "execution_count": 9,
   "id": "90e6cafc",
   "metadata": {},
   "outputs": [
    {
     "name": "stdout",
     "output_type": "stream",
     "text": [
      "Enter the first number: 3\n",
      "Enter the second number: 6\n",
      "Enter any of these operators (+, -, *, /, %, **): +\n",
      "9.0\n"
     ]
    }
   ],
   "source": [
    "# Input the values from the keyboard\n",
    "a = float(input(\"Enter the first number: \"))\n",
    "b = float(input(\"Enter the second number: \"))\n",
    "cal = input(\"Enter any of these operators (+, -, *, /, %, **): \")\n",
    "\n",
    "# Perform the calculation\n",
    "if cal == '+':\n",
    "    print(a + b)\n",
    "elif cal == '-':\n",
    "    print(a - b)\n",
    "elif cal == '*':\n",
    "    print(a * b)\n",
    "elif cal == '/':\n",
    "    if b == 0:\n",
    "        print(\"Error: Division by zero\")\n",
    "    else:\n",
    "        print(a / b)\n",
    "elif cal == '%':\n",
    "    if b == 0:\n",
    "        print(\"Error: Modulo by zero\")\n",
    "    else:\n",
    "        print(a % b)\n",
    "elif cal == '**':\n",
    "    print(a ** b)\n",
    "else:\n",
    "    print(\"Error: Invalid operator\")\n"
   ]
  },
  {
   "cell_type": "markdown",
   "id": "45c8d9e1",
   "metadata": {},
   "source": [
    "12.Manoj Kumar has family and friends. Help him remind them who is who. Given a string with a name, return the relation of that person to Manoj Kumar.,\n",
    " Person Relation\n",
    " Shiva father ,Letha mother, Tarun brother,Kavitha sister ,,Strange Coder.\n"
   ]
  },
  {
   "cell_type": "code",
   "execution_count": 23,
   "id": "db22de8b",
   "metadata": {},
   "outputs": [
    {
     "name": "stdout",
     "output_type": "stream",
     "text": [
      "Enter a name: raj\n",
      "raj sorry I don't know the relation of Manoj kumar\n"
     ]
    }
   ],
   "source": [
    "# Input a name\n",
    "name = input(\"Enter a name: \").lower()\n",
    "\n",
    "# relation based on names\n",
    "if name == \"tarun\":\n",
    "    print(\"{} is a brother of Manoj kumar\".format(name))\n",
    "elif name == \"kavitha\":\n",
    "    print(\"{} is a sister of Manoj kumar\".format(name))\n",
    "elif name == \"shiva\":\n",
    "    print(\"{} is a father of Manoj kumar\".format(name))\n",
    "elif name == \"letha\":\n",
    "    print(\"{} is a mother of Manoj kumar\".format(name))\n",
    "elif name == \"sai\":\n",
    "    print(\"{} is a sister of Manoj kumar\".format(name))\n",
    "else:\n",
    "    print(\"{} sorry I don't know the relation of Manoj kumar\".format(name))"
   ]
  },
  {
   "cell_type": "markdown",
   "id": "1c9474f3",
   "metadata": {},
   "source": [
    "13.Write a python program that takes in a word and determines whether or not it is plural. A plural word is one that ends with “s”\n"
   ]
  },
  {
   "cell_type": "code",
   "execution_count": 25,
   "id": "548099de",
   "metadata": {},
   "outputs": [
    {
     "name": "stdout",
     "output_type": "stream",
     "text": [
      "Enter a word: its\n",
      "it is plural\n"
     ]
    }
   ],
   "source": [
    "# Input the word\n",
    "word = input(\"Enter a word: \")\n",
    "\n",
    "if word.endswith(\"s\"):# endswith Check if the word is plural \n",
    "    print(\"it is plural\")\n",
    "else:\n",
    "    print(\"it's not plural\")\n"
   ]
  },
  {
   "cell_type": "markdown",
   "id": "ed9a3ced",
   "metadata": {},
   "source": [
    "14.A company decided to give a bonus of 5% to employees if his/her year of service is more than 5 years.Ask user for their salary and year of service and print the net bonus amount.\n"
   ]
  },
  {
   "cell_type": "code",
   "execution_count": 35,
   "id": "bb23f5a8",
   "metadata": {},
   "outputs": [
    {
     "name": "stdout",
     "output_type": "stream",
     "text": [
      "Enter salary: 45000\n",
      "Enter employee service: 6\n",
      "Your bonus is: 2250.0\n"
     ]
    }
   ],
   "source": [
    "# input from user\n",
    "salary = int(input(\"Enter salary: \"))\n",
    "service = int(input(\"Enter employee service: \"))\n",
    "\n",
    "#calculate employee hike\n",
    "if service > 5:\n",
    "    bonus = 0.05*salary \n",
    "    print(\"Your bonus is:\", bonus)"
   ]
  },
  {
   "cell_type": "markdown",
   "id": "c8890b44",
   "metadata": {},
   "source": [
    "15.Take values of length and breadth of a rectangle from the user and check if it is square or not."
   ]
  },
  {
   "cell_type": "code",
   "execution_count": 28,
   "id": "81e92577",
   "metadata": {},
   "outputs": [
    {
     "name": "stdout",
     "output_type": "stream",
     "text": [
      "enter a length of rectangle:10\n",
      "enter a breadth of rectangle:10\n",
      "it's square\n"
     ]
    }
   ],
   "source": [
    "# Input the length and breadth of the rectangle\n",
    "l=float(input('enter a length of rectangle:'))\n",
    "b=float(input('enter a breadth of rectangle:'))\n",
    "\n",
    "if l==b: # it check square or not\n",
    "    print(\"it's square\")\n",
    "else:\n",
    "    print(\"it's not square\")"
   ]
  },
  {
   "cell_type": "markdown",
   "id": "cf0f2c53",
   "metadata": {},
   "source": [
    "16.Accept any city from the user and display the momentum of the city <br>\n",
    "Hyderabad  : “charminar”<br>\n",
    "“Delhi”         : “red fort<br>\n",
    "“Agra           : Taj mahal<br>\n",
    "If the city name is not given correctly, give him a warning message.\n"
   ]
  },
  {
   "cell_type": "code",
   "execution_count": 33,
   "id": "e09dd6b5",
   "metadata": {},
   "outputs": [
    {
     "name": "stdout",
     "output_type": "stream",
     "text": [
      "City name: Hyderabad\n",
      "Charminar\n"
     ]
    }
   ],
   "source": [
    "# input the city\n",
    "city = str(input((\"City name: \")))\n",
    "if city == \"Hyderabad\": \n",
    "    print(\"Charminar\")\n",
    "elif city == \"Delhi\": \n",
    "    print(\"Red Fort\")\n",
    "elif city == \"Agra\":\n",
    "    print(\"Taj Mahal\")\n",
    "else: # it gives the warning mesage\n",
    "    print(\"Warning: sorry city not found\")"
   ]
  },
  {
   "cell_type": "markdown",
   "id": "dca76e04",
   "metadata": {},
   "source": [
    "18.Write a program to check whether a person is eligible for voting or not  (voting age>=18)."
   ]
  },
  {
   "cell_type": "code",
   "execution_count": 34,
   "id": "55fa45ed",
   "metadata": {},
   "outputs": [
    {
     "name": "stdout",
     "output_type": "stream",
     "text": [
      "enter a age of voter:15\n",
      "person is not eligible for voting\n"
     ]
    }
   ],
   "source": [
    "age=int(input('enter a age of voter:'))\n",
    "if age>=18: #check the person egible for vote r not\n",
    "    print('person is eligible for voting')\n",
    "else:\n",
    "    print('person is not eligible for voting')"
   ]
  },
  {
   "cell_type": "markdown",
   "id": "cc153cb0",
   "metadata": {},
   "source": [
    "19.Accept three sides of the triangle and check whether the triangle is possible or not.(Triangle is possible only when the sum of any two sides is greater than 3 rd side).\n"
   ]
  },
  {
   "cell_type": "code",
   "execution_count": 36,
   "id": "2d53dc24",
   "metadata": {},
   "outputs": [
    {
     "name": "stdout",
     "output_type": "stream",
     "text": [
      "Enter the length of the first side: 4\n",
      "Enter the length of the second side: 6\n",
      "Enter the length of the third side: 8\n",
      "Triangle is formed\n"
     ]
    }
   ],
   "source": [
    "a = float(input(\"Enter the length of the first side: \"))\n",
    "b = float(input(\"Enter the length of the second side: \"))\n",
    "c = float(input(\"Enter the length of the third side: \"))\n",
    "if a+b>c and a+c>b and b+c>a: # sum of any two side greater than 3rd side\n",
    "    print('Triangle is formed')\n",
    "elif a <= 0 or b <= 0 or c <= 0: # give only postive value\n",
    "    print(\"Side lengths must be positive values.\")\n",
    "else:\n",
    "    print('Triangle is not formed')"
   ]
  },
  {
   "cell_type": "code",
   "execution_count": null,
   "id": "db5392b8",
   "metadata": {},
   "outputs": [],
   "source": []
  }
 ],
 "metadata": {
  "kernelspec": {
   "display_name": "Python 3 (ipykernel)",
   "language": "python",
   "name": "python3"
  },
  "language_info": {
   "codemirror_mode": {
    "name": "ipython",
    "version": 3
   },
   "file_extension": ".py",
   "mimetype": "text/x-python",
   "name": "python",
   "nbconvert_exporter": "python",
   "pygments_lexer": "ipython3",
   "version": "3.9.13"
  }
 },
 "nbformat": 4,
 "nbformat_minor": 5
}
