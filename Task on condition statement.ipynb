{
 "cells": [
  {
   "cell_type": "markdown",
   "id": "06dea0bc",
   "metadata": {},
   "source": [
    "1. Write a Python program that asks the user for their age and prints \"You are an adult\" if the age is 18 or older, otherwise prints \"You are a minor'.\n"
   ]
  },
  {
   "cell_type": "code",
   "execution_count": 2,
   "id": "e766eea5",
   "metadata": {},
   "outputs": [
    {
     "name": "stdout",
     "output_type": "stream",
     "text": [
      "enter a age:6\n",
      "You are a minor\n"
     ]
    }
   ],
   "source": [
    "age=int(input('enter a age:'))\n",
    "if age >=18: # this condition check  age great then 18\n",
    "    print('You are an adult')\n",
    "else:\n",
    "    print('You are a minor')"
   ]
  },
  {
   "cell_type": "markdown",
   "id": "abf23200",
   "metadata": {},
   "source": [
    "2.Write a program that takes a numerical grade (out of 100) as input and prints the corresponding letter grade according to the following scale:<br>\n",
    " 90-100: A<br>\n",
    " 80-89: B<br>\n",
    " 70-79: C<br>\n",
    " 60-69: D<br>\n",
    " Below 60: F\n"
   ]
  },
  {
   "cell_type": "code",
   "execution_count": 6,
   "id": "82fb8463",
   "metadata": {},
   "outputs": [
    {
     "name": "stdout",
     "output_type": "stream",
     "text": [
      "enter your marks:60\n",
      "Grade D\n"
     ]
    }
   ],
   "source": [
    "marks=float(input('enter your marks:'))\n",
    "if marks in range(0,101):\n",
    "    if marks in range(90,100):\n",
    "        print(\"Grade A \") \n",
    "    elif marks in range(80,89):\n",
    "        print('Grade B')\n",
    "    elif marks in range(70,79):\n",
    "        print('Grade C')\n",
    "    elif marks in range(60,69):\n",
    "        print('Grade D')\n",
    "    elif marks<=60:\n",
    "        print('Fail')\n",
    "else:\n",
    "    print('please enter invalid input')"
   ]
  },
  {
   "cell_type": "markdown",
   "id": "0c5588b4",
   "metadata": {},
   "source": [
    "3.Write a program that calculates the Body Mass Index (BMI) of a person. The user should input their weight in kilograms and height in meters. The program should then print whether the person is underweight, normal weight, overweight, or obese\n"
   ]
  },
  {
   "cell_type": "code",
   "execution_count": 11,
   "id": "0983c2a0",
   "metadata": {},
   "outputs": [
    {
     "name": "stdout",
     "output_type": "stream",
     "text": [
      "enter weight:60\n",
      "enter height:4.8\n",
      "The Weight, Height, and bmi of  body  60.0,4.8, are 2.604166666666667\n",
      "obese\n"
     ]
    }
   ],
   "source": [
    "weight=float(input('enter weight:'))\n",
    "height=float(input('enter height:'))\n",
    "bmi=weight/(height**2)\n",
    "print(f'The Weight, Height, and bmi of  body  {weight},{height}, are {bmi}')\n",
    "if weight<=20.5:\n",
    "    print('under weight')\n",
    "elif 20.5 <= bmi < 40.9:\n",
    "    print('normal weight')\n",
    "elif 50<= bmi < 70.5:\n",
    "    print('over weight')\n",
    "else:\n",
    "    print('obese')"
   ]
  },
  {
   "cell_type": "markdown",
   "id": "f6f99d4c",
   "metadata": {},
   "source": [
    "4.Write a program that asks the user for three numbers and prints the maximum of the three.\n"
   ]
  },
  {
   "cell_type": "code",
   "execution_count": 12,
   "id": "556662b4",
   "metadata": {},
   "outputs": [
    {
     "name": "stdout",
     "output_type": "stream",
     "text": [
      "enter first number:56\n",
      "enter second number23.6\n",
      "enter third number:86.1\n",
      "z is maximum\n"
     ]
    }
   ],
   "source": [
    "x=float(input('enter first number:'))\n",
    "y=float(input('enter second number'))\n",
    "z=float(input('enter third number:'))\n",
    "if x>=y and x>=z:\n",
    "    print('x is maximum')\n",
    "elif y>=x and y>=z:\n",
    "    print('y is maximum')\n",
    "else:\n",
    "    print('z is maximum')\n",
    "\n",
    "    \n"
   ]
  },
  {
   "cell_type": "markdown",
   "id": "72d21575",
   "metadata": {},
   "source": [
    "5.Write a program that asks the user for a temperature (in Celsius) and prints \"It's freezing\" if the temperature is below 0, \"It's cool\" if it's between 0 and 10, \"It's warm\" if it's between 10 and 20, and \"It's hot\" if it's above 20\n"
   ]
  },
  {
   "cell_type": "code",
   "execution_count": 17,
   "id": "deb7e8b7",
   "metadata": {},
   "outputs": [
    {
     "name": "stdout",
     "output_type": "stream",
     "text": [
      "enter Temperature in celsius:55\n",
      "it's hot\n"
     ]
    }
   ],
   "source": [
    "temp=float(input('enter Temperature in celsius:'))\n",
    "if temp<=0:\n",
    "    print(\"it's freezing\")\n",
    "elif temp in range(0,10):\n",
    "    print(\"it's cool\" )\n",
    "elif temp in range(10,20):\n",
    "    print(\"it's warm\")\n",
    "elif temp >20:\n",
    "    print(\"it's hot\")"
   ]
  },
  {
   "cell_type": "markdown",
   "id": "72beb70f",
   "metadata": {},
   "source": [
    "5.Write a program that asks the user for a number (1-7) and prints the corresponding day of the week.\n"
   ]
  },
  {
   "cell_type": "code",
   "execution_count": 22,
   "id": "3cd489d9",
   "metadata": {},
   "outputs": [
    {
     "name": "stdout",
     "output_type": "stream",
     "text": [
      "enter a number in blw (1-7): 5\n",
      "thursday\n"
     ]
    }
   ],
   "source": [
    "day=int(input('enter a number in blw (1-7): '))\n",
    "if day in range(1,7):\n",
    "    if day ==1:\n",
    "        print('sunday')\n",
    "    elif day==2:\n",
    "        print('monday')\n",
    "    elif day==3:\n",
    "        print('tuesday')\n",
    "    elif day==4:\n",
    "        print('wensday')\n",
    "    elif day==5:\n",
    "        print(\"thursday\")\n",
    "    elif day==6:\n",
    "        print('friday')\n",
    "    elif  day==7:\n",
    "        print('saturday')\n",
    "        \n",
    "else:\n",
    "    print('enter valid number')\n",
    "        "
   ]
  },
  {
   "cell_type": "markdown",
   "id": "4adf4b7a",
   "metadata": {},
   "source": [
    "6.Write a program that asks the user for a number and prints \"In range\" if the number is between 10 and 20 (inclusive), and \"Out of range\" otherwise.\n"
   ]
  },
  {
   "cell_type": "code",
   "execution_count": 26,
   "id": "f8e24200",
   "metadata": {},
   "outputs": [
    {
     "name": "stdout",
     "output_type": "stream",
     "text": [
      "enter a number:10\n",
      "In range\n"
     ]
    }
   ],
   "source": [
    "num=int(input('enter a number:'))\n",
    "if num in range(10,21): # check weather num in range(10,20) inclusive\n",
    "    print('In range')\n",
    "else:\n",
    "    print(\"out of range\")"
   ]
  },
  {
   "cell_type": "markdown",
   "id": "5e9a10bb",
   "metadata": {},
   "source": [
    "7.Write a program that asks the user for an integer and prints whether it's even or odd.\n",
    "\n"
   ]
  },
  {
   "cell_type": "code",
   "execution_count": 28,
   "id": "ab14b041",
   "metadata": {},
   "outputs": [
    {
     "name": "stdout",
     "output_type": "stream",
     "text": [
      "Enter a integer number:5\n",
      "it is odd number\n"
     ]
    }
   ],
   "source": [
    "n=int(input(\"Enter a integer number:\"))\n",
    "if n%2==0:\n",
    "    print(\"It is even number\")\n",
    "else:\n",
    "    print(\"it is odd number\")"
   ]
  },
  {
   "cell_type": "markdown",
   "id": "7c79b3b7",
   "metadata": {},
   "source": [
    "9. Write a Python program to add 'ing' at the end of a given string (string length should be equal to or more than 3). If the given string already ends with 'ing' then add 'ly' instead.If the string length of the given string is less than 3, leave it unchanged\n"
   ]
  },
  {
   "cell_type": "code",
   "execution_count": 33,
   "id": "d03d89f9",
   "metadata": {},
   "outputs": [
    {
     "name": "stdout",
     "output_type": "stream",
     "text": [
      "enter a  word:end\n",
      "ending\n"
     ]
    }
   ],
   "source": [
    "str=input('enter a  word:')\n",
    "if len(str)==2:\n",
    "    print(\"str\")\n",
    "elif str.endswith('ing'):\n",
    "    print((str).replace('ing','ly'))\n",
    "else:\n",
    "    print((str)+('ing'))"
   ]
  },
  {
   "cell_type": "code",
   "execution_count": 34,
   "id": "7029d343",
   "metadata": {},
   "outputs": [
    {
     "name": "stdout",
     "output_type": "stream",
     "text": [
      "enter a  word:ending\n",
      "endly\n"
     ]
    }
   ],
   "source": [
    "str=input('enter a  word:')\n",
    "if len(str)==2:\n",
    "    print(\"str\")\n",
    "elif str.endswith('ing'):\n",
    "    print((str).replace('ing','ly'))\n",
    "else:\n",
    "    print((str)+('ing'))"
   ]
  },
  {
   "cell_type": "code",
   "execution_count": null,
   "id": "d452ce66",
   "metadata": {},
   "outputs": [],
   "source": []
  }
 ],
 "metadata": {
  "kernelspec": {
   "display_name": "Python 3 (ipykernel)",
   "language": "python",
   "name": "python3"
  },
  "language_info": {
   "codemirror_mode": {
    "name": "ipython",
    "version": 3
   },
   "file_extension": ".py",
   "mimetype": "text/x-python",
   "name": "python",
   "nbconvert_exporter": "python",
   "pygments_lexer": "ipython3",
   "version": "3.9.13"
  }
 },
 "nbformat": 4,
 "nbformat_minor": 5
}
